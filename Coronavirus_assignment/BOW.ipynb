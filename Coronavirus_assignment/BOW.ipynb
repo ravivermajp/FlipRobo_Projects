{
 "cells": [
  {
   "cell_type": "code",
   "execution_count": 1,
   "metadata": {},
   "outputs": [],
   "source": [
    "from sklearn.feature_extraction.text import CountVectorizer "
   ]
  },
  {
   "cell_type": "code",
   "execution_count": 2,
   "metadata": {},
   "outputs": [],
   "source": [
    "from nltk.corpus import stopwords"
   ]
  },
  {
   "cell_type": "code",
   "execution_count": 29,
   "metadata": {},
   "outputs": [
    {
     "name": "stdout",
     "output_type": "stream",
     "text": [
      "BOW #A : ['an', 'bag', 'example', 'is', 'of', 'this', 'words']\n",
      "BOW #B : ['bag', 'lets', 'this', 'understand']\n",
      "\n",
      "Count of BOW B in BOW A : [[0 2 0 0 0 1 0]]\n",
      "BOW A : ['an', 'bag', 'example', 'is', 'of', 'this', 'words']\n"
     ]
    }
   ],
   "source": [
    "bow1 = [\"This is an example of bag of words!\"]\n",
    "bow2 = [\"Lets understand  bag This bag\"]\n",
    "\n",
    "vect1 = CountVectorizer()\n",
    "vect2 = CountVectorizer()\n",
    "\n",
    "vect1.fit(bow1)\n",
    "\n",
    "new_vect=vect1.transform(bow2)\n",
    "\n",
    "print(f\"BOW #A : {vect1.get_feature_names()}\")\n",
    "print(f\"BOW #B : {(vect2.fit(bow2)).get_feature_names()}\\n\")\n",
    "\n",
    "print(\"Count of BOW B in BOW A :\",new_vect.toarray())\n",
    "print(\"BOW A :\",vect1.get_feature_names())"
   ]
  },
  {
   "cell_type": "code",
   "execution_count": null,
   "metadata": {},
   "outputs": [],
   "source": []
  },
  {
   "cell_type": "code",
   "execution_count": null,
   "metadata": {},
   "outputs": [],
   "source": []
  }
 ],
 "metadata": {
  "kernelspec": {
   "display_name": "Python 3",
   "language": "python",
   "name": "python3"
  },
  "language_info": {
   "codemirror_mode": {
    "name": "ipython",
    "version": 3
   },
   "file_extension": ".py",
   "mimetype": "text/x-python",
   "name": "python",
   "nbconvert_exporter": "python",
   "pygments_lexer": "ipython3",
   "version": "3.7.4"
  }
 },
 "nbformat": 4,
 "nbformat_minor": 2
}
