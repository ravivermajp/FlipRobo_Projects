{
 "cells": [
  {
   "cell_type": "code",
   "execution_count": 4,
   "metadata": {},
   "outputs": [],
   "source": [
    "import cv2\n",
    "import numpy as np\n",
    "categ = 'Jeans'\n",
    "out = 'jeans.'\n",
    "count=1\n",
    "x=1\n",
    "while(x<=100):\n",
    "    image = cv2.imread(categ+'/jeans.'+str(x)+'.jpeg')\n",
    "    height, width = image.shape[:2]\n",
    "\n",
    "    rotation_matrix = cv2.getRotationMatrix2D((width/2, height/2), -30, 0.75)\n",
    "    rotated_image_neg = cv2.warpAffine(image, rotation_matrix, (width, height))\n",
    "\n",
    "    rotation_matrix = cv2.getRotationMatrix2D((width/2, height/2), 30, 0.75)\n",
    "    rotated_image_pos = cv2.warpAffine(image, rotation_matrix, (width, height))\n",
    "\n",
    "    M =  np.ones(image.shape, dtype = \"uint8\") * 75\n",
    "\n",
    "    increase = cv2.add(image, M)\n",
    "\n",
    "    decrease = cv2.subtract(image, M)\n",
    "\n",
    "    horizontal = cv2.flip(image, 1)\n",
    "\n",
    "    vertical = cv2.flip(image, 0)\n",
    "\n",
    "    filter = np.array([[-1, -1, -1], [-1, 9, -1], [-1, -1, -1]])\n",
    "    sharpen = cv2.filter2D(image,-1,filter)\n",
    "    cv2.imwrite('augmented_images/'+out+str(count)+'.jpg', image)\n",
    "    cv2.imwrite('augmented_images/'+out+str(count+1)+'.jpg', rotated_image_neg)\n",
    "    cv2.imwrite('augmented_images/'+out+str(count+2)+'.jpg', rotated_image_pos)\n",
    "    cv2.imwrite('augmented_images/'+out+str(count+3)+'.jpg', increase)\n",
    "    cv2.imwrite('augmented_images/'+out+str(count+4)+'.jpg', decrease)\n",
    "    cv2.imwrite('augmented_images/'+out+str(count+5)+'.jpg', horizontal)\n",
    "    cv2.imwrite('augmented_images/'+out+str(count+6)+'.jpg', vertical)\n",
    "    cv2.imwrite('augmented_images/'+out+str(count+7)+'.jpg', sharpen)\n",
    "    \n",
    "    count=count+8\n",
    "    x=x+1\n",
    "    \n",
    "cv2.destroyAllWindows()"
   ]
  },
  {
   "cell_type": "code",
   "execution_count": null,
   "metadata": {},
   "outputs": [],
   "source": []
  }
 ],
 "metadata": {
  "kernelspec": {
   "display_name": "Python 3",
   "language": "python",
   "name": "python3"
  },
  "language_info": {
   "codemirror_mode": {
    "name": "ipython",
    "version": 3
   },
   "file_extension": ".py",
   "mimetype": "text/x-python",
   "name": "python",
   "nbconvert_exporter": "python",
   "pygments_lexer": "ipython3",
   "version": "3.7.7"
  }
 },
 "nbformat": 4,
 "nbformat_minor": 4
}
