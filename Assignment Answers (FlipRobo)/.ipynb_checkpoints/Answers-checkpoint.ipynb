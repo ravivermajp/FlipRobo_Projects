{
 "cells": [
  {
   "cell_type": "code",
   "execution_count": 2,
   "metadata": {},
   "outputs": [
    {
     "name": "stdout",
     "output_type": "stream",
     "text": [
      "Sum of numbers from 1 to 100 : 4950\n"
     ]
    }
   ],
   "source": [
    "# 1. How to print sum of the numbers starting from 1 to 100?\n",
    "\n",
    "total = 0\n",
    "for i in range(1,100):\n",
    "    total = total+i\n",
    "print(f\"Sum of numbers from 1 to 100 : {total}\")"
   ]
  },
  {
   "cell_type": "code",
   "execution_count": 7,
   "metadata": {},
   "outputs": [
    {
     "name": "stdout",
     "output_type": "stream",
     "text": [
      "Average of numbers in a list in Python : 19.8\n"
     ]
    }
   ],
   "source": [
    "# 2. Can you write a program to find the average of numbers in a list in Python?\n",
    "\n",
    "numbers = [10,14,32,13,15,54,18,3,17,22]\n",
    "avg = sum(numbers)/len(numbers)\n",
    "print(f\"Average of numbers in a list in Python : {avg}\")"
   ]
  },
  {
   "cell_type": "code",
   "execution_count": 11,
   "metadata": {},
   "outputs": [
    {
     "name": "stdout",
     "output_type": "stream",
     "text": [
      "Enter a number to reverse : 1234567890\n",
      "Reverse Order of 1234567890 is: 0987654321\n"
     ]
    }
   ],
   "source": [
    "# 3. Write a program to reverse a number in Python?\n",
    "\n",
    "num = input(\"Enter a number to reverse : \")\n",
    "if num.isdigit():\n",
    "    print(f\"Reverse Order of {num} is: {str(num)[::-1]}\")\n",
    "else:\n",
    "    print(\"NO Alphabet! Enter Numbers Only.\")"
   ]
  },
  {
   "cell_type": "code",
   "execution_count": 20,
   "metadata": {},
   "outputs": [
    {
     "name": "stdout",
     "output_type": "stream",
     "text": [
      "Enter a number to sum the digits : 12345\n",
      "The sum of the digits of a number is : 15\n"
     ]
    }
   ],
   "source": [
    "# 4. Write a program to find the sum of the digits of a number in Python?\n",
    "\n",
    "num = input(\"Enter a number to sum the digits : \")\n",
    "total = 0\n",
    "if num.isdigit():\n",
    "    for i in range(len(num)):\n",
    "        total = total + int(num[i])\n",
    "    print(f\"The sum of the digits of a number is : {total}\")\n",
    "else:\n",
    "    print(\"NO Alphabet! Enter Numbers Only.\")"
   ]
  },
  {
   "cell_type": "code",
   "execution_count": 30,
   "metadata": {},
   "outputs": [
    {
     "name": "stdout",
     "output_type": "stream",
     "text": [
      "Enter Number to Check if a Number is a Palindrome or NOT : 121\n",
      "The number is Palindrome\n"
     ]
    }
   ],
   "source": [
    "# 5. Write a Python Program to Check if a Number is a Palindrome or not?\n",
    "\n",
    "num = input('Enter Number to Check if a Number is a Palindrome or NOT : ')\n",
    "if num.isdigit():\n",
    "    if num == num[::-1]:\n",
    "        print(\"The number is Palindrome\")\n",
    "    else:\n",
    "        print(\"The number is not Palindrome\")\n",
    "else:\n",
    "    print(\"NO Alphabet! Enter Numbers Only.\")"
   ]
  },
  {
   "cell_type": "code",
   "execution_count": 34,
   "metadata": {},
   "outputs": [
    {
     "name": "stdout",
     "output_type": "stream",
     "text": [
      "Enter Number of Digits to Count : 12345\n",
      "Number of Digits in a Number are : 5\n"
     ]
    }
   ],
   "source": [
    "# 6. Write a Python Program to Count the Number of Digits in a Number?\n",
    "\n",
    "num = input(\"Enter Number of Digits to Count : \")\n",
    "if num.isdigit():\n",
    "    print(f\"Number of Digits in a Number are : {len(num)}\")\n",
    "else:\n",
    "    print(\"NO Alphabet! Enter Numbers Only.\")"
   ]
  },
  {
   "cell_type": "code",
   "execution_count": 41,
   "metadata": {},
   "outputs": [
    {
     "name": "stdout",
     "output_type": "stream",
     "text": [
      "Enter Number to Print Table : 5\n",
      "5 x 1 = 5\n",
      "5 x 2 = 10\n",
      "5 x 3 = 15\n",
      "5 x 4 = 20\n",
      "5 x 5 = 25\n",
      "5 x 6 = 30\n",
      "5 x 7 = 35\n",
      "5 x 8 = 40\n",
      "5 x 9 = 45\n",
      "5 x 10 = 50\n"
     ]
    }
   ],
   "source": [
    "# 7. Write a Python Program to Print Table of a Given Number?\n",
    "\n",
    "num = input(\"Enter Number to Print Table : \")\n",
    "if num.isdigit():\n",
    "    for i in range(1,11):\n",
    "        print(f\"{int(num)} x {i} = {int(num)*i}\")\n",
    "else:\n",
    "    print(\"NO Alphabet! Enter Numbers Only.\")"
   ]
  },
  {
   "cell_type": "code",
   "execution_count": 48,
   "metadata": {},
   "outputs": [
    {
     "name": "stdout",
     "output_type": "stream",
     "text": [
      "Enter number to Check if a Number is a Prime Number or Not : 2\n",
      "2 is a Prime Number\n"
     ]
    }
   ],
   "source": [
    "# 8. Write a Python Program to Check if a Number is a Prime Number?\n",
    "\n",
    "pnum = input(\"Enter number to Check if a Number is a Prime Number or Not : \")\n",
    "if pnum.isdigit():\n",
    "    if int(pnum) > 1:\n",
    "        for i in range(2, int(pnum)):\n",
    "            if (int(pnum) % i) == 0:\n",
    "                print(f\"{pnum} is Not a Prime Number\")\n",
    "                break\n",
    "        else:\n",
    "            print(f\"{pnum} is a Prime Number\")\n",
    "    else:\n",
    "        print(f\"{pnum} is Not a Prime Number\")\n",
    "else:\n",
    "    print(\"NO Alphabet! Enter Numbers Only.\")"
   ]
  },
  {
   "cell_type": "code",
   "execution_count": 76,
   "metadata": {},
   "outputs": [
    {
     "name": "stdout",
     "output_type": "stream",
     "text": [
      "Enter Number to Check if a Number is an Armstrong Number or Not : 6\n",
      "6 is an Armstrong number\n"
     ]
    }
   ],
   "source": [
    "# 9. Write a Python Program to Check if a Number is an Armstrong Number?\n",
    "\n",
    "num = int(input(\"Enter Number to Check if a Number is an Armstrong Number or Not : \"))\n",
    "sum = 0\n",
    "temp = num\n",
    "while temp > 0:\n",
    "   arm_no = temp % 10\n",
    "   sum = sum + arm_no ** len(str(num))\n",
    "   temp = temp//10\n",
    "if num == sum:\n",
    "   print(num,\"is an Armstrong number\")\n",
    "else:\n",
    "   print(num,\"is not an Armstrong number\")"
   ]
  },
  {
   "cell_type": "code",
   "execution_count": 82,
   "metadata": {},
   "outputs": [
    {
     "name": "stdout",
     "output_type": "stream",
     "text": [
      "Enter Number to Check if a Number is a Perfect Number or Not : 6\n",
      "6 is a Perfect Number\n"
     ]
    }
   ],
   "source": [
    "# 10. Write a Python Program to Check if a Number is a Perfect Number?\n",
    "\n",
    "num = int(input(\"Enter Number to Check if a Number is a Perfect Number or Not : \"))\n",
    "total = 0\n",
    "for i in range(1, num):\n",
    "    if(num % i == 0):\n",
    "        total = total + i\n",
    "if (total == num):\n",
    "    print(f\"{num} is a Perfect Number\")\n",
    "else:\n",
    "    print(f\"{num} is not a Perfect Number\")"
   ]
  },
  {
   "cell_type": "code",
   "execution_count": 13,
   "metadata": {},
   "outputs": [
    {
     "name": "stdout",
     "output_type": "stream",
     "text": [
      "Enter Number to Check if a Number is a Strong Number : 145\n",
      "145 is a Strong Number\n"
     ]
    }
   ],
   "source": [
    "# 11. Write a Python Program to Check if a Number is a Strong Number?\n",
    "\n",
    "num = int(input(\"Enter Number to Check if a Number is a Strong Number : \"))\n",
    "total = 0\n",
    "temp = num\n",
    "while(temp > 0):\n",
    "    f = 1\n",
    "    i = 1\n",
    "    r = temp % 10\n",
    "    while(i <= r):\n",
    "        f = f * i\n",
    "        i = i + 1\n",
    "    total = total + f\n",
    "    temp = temp // 10    \n",
    "if (total == num):\n",
    "    print(f\"{num} is a Strong Number\")\n",
    "else:\n",
    "    print(f\"{num} is not a Strong Number\")"
   ]
  },
  {
   "cell_type": "code",
   "execution_count": 86,
   "metadata": {},
   "outputs": [
    {
     "name": "stdout",
     "output_type": "stream",
     "text": [
      "Second Largest Number in the list is: 4\n"
     ]
    }
   ],
   "source": [
    "# 12. Write a Python Program to Find the Second Largest Number in a List?\n",
    "\n",
    "num_list = [0, 3, 2, 5, 4,1]\n",
    "num_list.sort()\n",
    "print(f\"Second Largest Number in the list is: {num_list[-2]}\")"
   ]
  },
  {
   "cell_type": "code",
   "execution_count": 89,
   "metadata": {},
   "outputs": [
    {
     "name": "stdout",
     "output_type": "stream",
     "text": [
      "[1, 3, 2, 5, 4, 7]\n"
     ]
    }
   ],
   "source": [
    "# 13. Write a Python Program to Swap the First and Last Value of a List?\n",
    "\n",
    "def swaplist(list1): \n",
    "    list1[0], list1[-1] = list1[-1], list1[0] \n",
    "    return list1\n",
    "\n",
    "list1 = [7, 3, 2, 5, 4,1] \n",
    "print(swaplist(list1))"
   ]
  },
  {
   "cell_type": "code",
   "execution_count": 98,
   "metadata": {},
   "outputs": [
    {
     "name": "stdout",
     "output_type": "stream",
     "text": [
      "Enter Number to Check if a String is a Palindrome or not ! : NaMAn\n",
      "String is Palindrome\n"
     ]
    }
   ],
   "source": [
    "# 14. Write a Python Program to Check if a String is a Palindrome or Not?\n",
    "\n",
    "String = input('Enter Number to Check if a String is a Palindrome or not ! : ')\n",
    "String = String.upper()\n",
    "if String == String[::-1]:\n",
    "    print(\"String is Palindrome\")\n",
    "else:\n",
    "    print(\"String is Not Palindrome\")"
   ]
  },
  {
   "cell_type": "code",
   "execution_count": 102,
   "metadata": {},
   "outputs": [
    {
     "data": {
      "text/plain": [
       "12"
      ]
     },
     "execution_count": 102,
     "metadata": {},
     "output_type": "execute_result"
    }
   ],
   "source": [
    "# 15. Write a Python Program to Count the Number of Vowels in a String?\n",
    "\n",
    "vowel = \"aeiou\"\n",
    "count = 0\n",
    "text = \"I Am Ravi Verma a FlipRobo Intern\"\n",
    "text = text.lower()\n",
    "for i in text:\n",
    "    if i in vowel:\n",
    "        count=count+1\n",
    "count"
   ]
  },
  {
   "cell_type": "code",
   "execution_count": 108,
   "metadata": {},
   "outputs": [
    {
     "name": "stdout",
     "output_type": "stream",
     "text": [
      "Enter First String : RAVI\n",
      "Enter Second String : verma\n",
      "Common Letters in Two Input Strings : {'a', 'r', 'v'}\n"
     ]
    }
   ],
   "source": [
    "# 16. Write a Python Program to Check Common Letters in Two Input Strings?\n",
    "\n",
    "input1 = input(\"Enter First String : \")\n",
    "input2 = input(\"Enter Second String : \")\n",
    "input1 = input1.lower()\n",
    "input2 = input2.lower()\n",
    "a = set(input1)\n",
    "b = set(input2)\n",
    "common_letters = a & b\n",
    "print(f\"Common Letters in Two Input Strings : {common_letters}\")"
   ]
  },
  {
   "cell_type": "code",
   "execution_count": 5,
   "metadata": {},
   "outputs": [
    {
     "name": "stdout",
     "output_type": "stream",
     "text": [
      "Enter Name to Begin : ravi verma\n",
      "\n",
      "Welcome to Calculator ! - RAVI VERMA\n",
      "\n",
      "Select Option to Perform Action\n",
      "1 - Addition\n",
      "2 - Subtraction\n",
      "3 - Multiplication\n",
      "4 - Division\n",
      "5 - Exit Calculator\n",
      "\n",
      "Select Action : 1\n",
      "\n",
      "Addition\n",
      "Enter first number :2\n",
      "Enter second number :2\n",
      "2 + 2 = 4\n",
      "\n",
      "Select Action : 2\n",
      "\n",
      "Subtraction\n",
      "Enter first number :3\n",
      "Enter second number :2\n",
      "3 - 2 = 1\n",
      "\n",
      "Select Action : 9\n",
      "Please Select.. Correct Option!\n",
      "\n",
      "Select Action : 7\n",
      "Please Select.. Correct Option!\n",
      "\n",
      "Select Action : 3\n",
      "\n",
      "Multiplication\n",
      "Enter first number :3\n",
      "Enter second number :2\n",
      "3 * 2 = 6\n",
      "\n",
      "Select Action : 4\n",
      "\n",
      "Division\n",
      "Enter first number :8\n",
      "Enter second number :3\n",
      "8 / 3 = 2.667\n",
      "\n",
      "Select Action : 5\n",
      "\n",
      "BYE ! Calculator OFF.\n"
     ]
    }
   ],
   "source": [
    "# 17. Write a program to design a calculator with below requirement.\n",
    "\n",
    "# a. It should ask the user name.\n",
    "# b. User should enter the value.\n",
    "# c. User can select any command like add, multiply, divide, Subtraction.\n",
    "# d. It should perform the operation selected & gives the output.\n",
    "# e. The program should not be terminated without user permission.\n",
    "\n",
    "on = True \n",
    "name = input(\"Enter Name to Begin : \")\n",
    "print(f\"\\nWelcome to Calculator ! - {name.upper()}\\n\")\n",
    "print(\"Select Option to Perform Action\\n1 - Addition\\n2 - Subtraction\\n3 - Multiplication\\n4 - Division\\n5 - Exit Calculator\\n\")\n",
    "while on:\n",
    "    operation = int(input(\"Select Action : \"))\n",
    "    if operation == 1:\n",
    "        print(\"\\nAddition\")\n",
    "        first = int(input(\"Enter first number :\"))\n",
    "        second = int(input(\"Enter second number :\"))\n",
    "        print(f\"{first} + {second} = {first + second}\\n\")\n",
    "    elif operation == 2:\n",
    "        print(\"\\nSubtraction\")\n",
    "        first = int(input(\"Enter first number :\"))\n",
    "        second = int(input(\"Enter second number :\"))\n",
    "        print(f\"{first} - {second} = {first - second}\\n\")\n",
    "    elif operation == 3:\n",
    "        print(\"\\nMultiplication\")\n",
    "        first = int(input(\"Enter first number :\"))\n",
    "        second = int(input(\"Enter second number :\"))\n",
    "        print(f\"{first} * {second} = {first * second}\\n\")\n",
    "    elif operation == 4:\n",
    "        print(\"\\nDivision\")\n",
    "        first = int(input(\"Enter first number :\"))\n",
    "        second = int(input(\"Enter second number :\"))\n",
    "        print(f\"{first} / {second} = {round((first / second),3)}\\n\")\n",
    "    elif operation == 5:\n",
    "        print (\"\\nBYE ! Calculator OFF.\")\n",
    "        on = False\n",
    "    else:\n",
    "        print(\"Please Select.. Correct Option!\\n\")"
   ]
  },
  {
   "cell_type": "code",
   "execution_count": null,
   "metadata": {},
   "outputs": [],
   "source": []
  }
 ],
 "metadata": {
  "kernelspec": {
   "display_name": "Python 3",
   "language": "python",
   "name": "python3"
  },
  "language_info": {
   "codemirror_mode": {
    "name": "ipython",
    "version": 3
   },
   "file_extension": ".py",
   "mimetype": "text/x-python",
   "name": "python",
   "nbconvert_exporter": "python",
   "pygments_lexer": "ipython3",
   "version": "3.7.4"
  }
 },
 "nbformat": 4,
 "nbformat_minor": 2
}
