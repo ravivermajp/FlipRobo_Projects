{
 "cells": [
  {
   "cell_type": "code",
   "execution_count": 1,
   "metadata": {},
   "outputs": [
    {
     "name": "stderr",
     "output_type": "stream",
     "text": [
      "[nltk_data] Downloading package wordnet to\n",
      "[nltk_data]     C:\\Users\\RaviVerma\\AppData\\Roaming\\nltk_data...\n",
      "[nltk_data]   Package wordnet is already up-to-date!\n"
     ]
    }
   ],
   "source": [
    "import pandas as pd\n",
    "import numpy as np\n",
    "\n",
    "import gensim\n",
    "from gensim.utils import simple_preprocess\n",
    "from gensim.parsing.preprocessing import STOPWORDS\n",
    "\n",
    "from nltk.stem import WordNetLemmatizer, SnowballStemmer\n",
    "from nltk.stem.porter import *\n",
    "\n",
    "np.random.seed(400)\n",
    "\n",
    "import nltk\n",
    "nltk.download('wordnet')\n",
    "\n",
    "from sklearn.datasets import fetch_20newsgroups"
   ]
  },
  {
   "cell_type": "code",
   "execution_count": 2,
   "metadata": {},
   "outputs": [],
   "source": [
    "train = fetch_20newsgroups(subset='train', shuffle = True)"
   ]
  },
  {
   "cell_type": "code",
   "execution_count": 3,
   "metadata": {},
   "outputs": [],
   "source": [
    "test = fetch_20newsgroups(subset='test', shuffle = True)"
   ]
  },
  {
   "cell_type": "code",
   "execution_count": 4,
   "metadata": {},
   "outputs": [
    {
     "data": {
      "text/plain": [
       "['alt.atheism',\n",
       " 'comp.graphics',\n",
       " 'comp.os.ms-windows.misc',\n",
       " 'comp.sys.ibm.pc.hardware',\n",
       " 'comp.sys.mac.hardware',\n",
       " 'comp.windows.x',\n",
       " 'misc.forsale',\n",
       " 'rec.autos',\n",
       " 'rec.motorcycles',\n",
       " 'rec.sport.baseball',\n",
       " 'rec.sport.hockey',\n",
       " 'sci.crypt',\n",
       " 'sci.electronics',\n",
       " 'sci.med',\n",
       " 'sci.space',\n",
       " 'soc.religion.christian',\n",
       " 'talk.politics.guns',\n",
       " 'talk.politics.mideast',\n",
       " 'talk.politics.misc',\n",
       " 'talk.religion.misc']"
      ]
     },
     "execution_count": 4,
     "metadata": {},
     "output_type": "execute_result"
    }
   ],
   "source": [
    "list(train.target_names)"
   ]
  },
  {
   "cell_type": "code",
   "execution_count": 5,
   "metadata": {},
   "outputs": [
    {
     "data": {
      "text/plain": [
       "['From: dfo@vttoulu.tko.vtt.fi (Foxvog Douglas)\\nSubject: Re: Rewording the Second Amendment (ideas)\\nOrganization: VTT\\nLines: 58\\n\\nIn article <1r1eu1$4t@transfer.stratus.com> cdt@sw.stratus.com (C. D. Tavares) writes:\\n>In article <1993Apr20.083057.16899@ousrvr.oulu.fi>, dfo@vttoulu.tko.vtt.fi (Foxvog Douglas) writes:\\n>> In article <1qv87v$4j3@transfer.stratus.com> cdt@sw.stratus.com (C. D. Tavares) writes:\\n>> >In article <C5n3GI.F8F@ulowell.ulowell.edu>, jrutledg@cs.ulowell.edu (John Lawrence Rutledge) writes:\\n>\\n>> >> The massive destructive power of many modern weapons, makes the\\n>> >> cost of an accidental or crimial usage of these weapons to great.\\n>> >> The weapons of mass destruction need to be in the control of\\n>> >> the government only.  Individual access would result in the\\n>> >> needless deaths of millions.  This makes the right of the people\\n>> >> to keep and bear many modern weapons non-existant.\\n\\n>> >Thanks for stating where you\\'re coming from.  Needless to say, I\\n>> >disagree on every count.\\n\\n>> You believe that individuals should have the right to own weapons of\\n>> mass destruction?  I find it hard to believe that you would support a \\n>> neighbor\\'s right to keep nuclear weapons, biological weapons, and nerve\\n>> gas on his/her property.  \\n\\n>> If we cannot even agree on keeping weapons of mass destruction out of\\n>> the hands of individuals, can there be any hope for us?\\n\\n>I don\\'t sign any blank checks.\\n\\nOf course.  The term must be rigidly defined in any bill.\\n\\n>When Doug Foxvog says \"weapons of mass destruction,\" he means CBW and\\n>nukes.  When Sarah Brady says \"weapons of mass destruction\" she means\\n>Street Sweeper shotguns and semi-automatic SKS rifles.  \\n\\nI doubt she uses this term for that.  You are using a quote allegedly\\nfrom her, can you back it up?\\n\\n>When John\\n>Lawrence Rutledge says \"weapons of mass destruction,\" and then immediately\\n>follows it with:\\n\\n>>> The US has thousands of people killed each year by handguns,\\n>>> this number can easily be reduced by putting reasonable restrictions\\n>>> on them.\\n\\n>...what does Rutledge mean by the term?\\n\\nI read the article as presenting first an argument about weapons of mass\\ndestruction (as commonly understood) and then switching to other topics.\\nThe first point evidently was to show that not all weapons should be\\nallowed, and then the later analysis was, given this understanding, to\\nconsider another class.\\n\\n>cdt@rocket.sw.stratus.com   --If you believe that I speak for my company,\\n>OR cdt@vos.stratus.com        write today for my special Investors\\' Packet...\\n\\n\\n\\n-- \\ndoug foxvog\\ndouglas.foxvog@vtt.fi\\n']"
      ]
     },
     "execution_count": 5,
     "metadata": {},
     "output_type": "execute_result"
    }
   ],
   "source": [
    "train.data[5:6]"
   ]
  },
  {
   "cell_type": "code",
   "execution_count": 6,
   "metadata": {},
   "outputs": [],
   "source": [
    "stemmer = SnowballStemmer(\"english\")"
   ]
  },
  {
   "cell_type": "code",
   "execution_count": 7,
   "metadata": {},
   "outputs": [],
   "source": [
    "def grammer(text):\n",
    "    return stemmer.stem(WordNetLemmatizer().lemmatize(text, pos='v'))\n",
    "\n",
    "def new_doc_process(text):\n",
    "    result=[]\n",
    "    for token in gensim.utils.simple_preprocess(text) :\n",
    "        if token not in gensim.parsing.preprocessing.STOPWORDS and len(token) > 3:\n",
    "            result.append(grammer(token))\n",
    "    return result"
   ]
  },
  {
   "cell_type": "code",
   "execution_count": 8,
   "metadata": {},
   "outputs": [],
   "source": [
    "new_docs = []\n",
    "for doc in train.data:\n",
    "    new_docs.append(new_doc_process(doc))"
   ]
  },
  {
   "cell_type": "code",
   "execution_count": 11,
   "metadata": {},
   "outputs": [
    {
     "data": {
      "text/plain": [
       "[['vttoulu',\n",
       "  'foxvog',\n",
       "  'dougla',\n",
       "  'subject',\n",
       "  'reword',\n",
       "  'second',\n",
       "  'amend',\n",
       "  'idea',\n",
       "  'organ',\n",
       "  'line',\n",
       "  'articl',\n",
       "  'transfer',\n",
       "  'stratus',\n",
       "  'stratus',\n",
       "  'tavar',\n",
       "  'write',\n",
       "  'articl',\n",
       "  'ousrvr',\n",
       "  'oulu',\n",
       "  'vttoulu',\n",
       "  'foxvog',\n",
       "  'dougla',\n",
       "  'write',\n",
       "  'articl',\n",
       "  'transfer',\n",
       "  'stratus',\n",
       "  'stratus',\n",
       "  'tavar',\n",
       "  'write',\n",
       "  'articl',\n",
       "  'ulowel',\n",
       "  'ulowel',\n",
       "  'jrutledg',\n",
       "  'ulowel',\n",
       "  'john',\n",
       "  'lawrenc',\n",
       "  'rutledg',\n",
       "  'write',\n",
       "  'massiv',\n",
       "  'destruct',\n",
       "  'power',\n",
       "  'modern',\n",
       "  'weapon',\n",
       "  'make',\n",
       "  'cost',\n",
       "  'accident',\n",
       "  'crimial',\n",
       "  'usag',\n",
       "  'weapon',\n",
       "  'great',\n",
       "  'weapon',\n",
       "  'mass',\n",
       "  'destruct',\n",
       "  'need',\n",
       "  'control',\n",
       "  'govern',\n",
       "  'individu',\n",
       "  'access',\n",
       "  'result',\n",
       "  'needl',\n",
       "  'death',\n",
       "  'million',\n",
       "  'make',\n",
       "  'right',\n",
       "  'peopl',\n",
       "  'bear',\n",
       "  'modern',\n",
       "  'weapon',\n",
       "  'exist',\n",
       "  'thank',\n",
       "  'state',\n",
       "  'come',\n",
       "  'needl',\n",
       "  'disagre',\n",
       "  'count',\n",
       "  'believ',\n",
       "  'individu',\n",
       "  'right',\n",
       "  'weapon',\n",
       "  'mass',\n",
       "  'destruct',\n",
       "  'hard',\n",
       "  'believ',\n",
       "  'support',\n",
       "  'neighbor',\n",
       "  'right',\n",
       "  'nuclear',\n",
       "  'weapon',\n",
       "  'biolog',\n",
       "  'weapon',\n",
       "  'nerv',\n",
       "  'properti',\n",
       "  'agre',\n",
       "  'keep',\n",
       "  'weapon',\n",
       "  'mass',\n",
       "  'destruct',\n",
       "  'hand',\n",
       "  'individu',\n",
       "  'hope',\n",
       "  'sign',\n",
       "  'blank',\n",
       "  'check',\n",
       "  'cours',\n",
       "  'term',\n",
       "  'rigid',\n",
       "  'defin',\n",
       "  'doug',\n",
       "  'foxvog',\n",
       "  'say',\n",
       "  'weapon',\n",
       "  'mass',\n",
       "  'destruct',\n",
       "  'mean',\n",
       "  'nuke',\n",
       "  'sarah',\n",
       "  'bradi',\n",
       "  'say',\n",
       "  'weapon',\n",
       "  'mass',\n",
       "  'destruct',\n",
       "  'mean',\n",
       "  'street',\n",
       "  'sweeper',\n",
       "  'shotgun',\n",
       "  'semi',\n",
       "  'automat',\n",
       "  'rifl',\n",
       "  'doubt',\n",
       "  'use',\n",
       "  'term',\n",
       "  'quot',\n",
       "  'alleg',\n",
       "  'john',\n",
       "  'lawrenc',\n",
       "  'rutledg',\n",
       "  'say',\n",
       "  'weapon',\n",
       "  'mass',\n",
       "  'destruct',\n",
       "  'immedi',\n",
       "  'follow',\n",
       "  'thousand',\n",
       "  'peopl',\n",
       "  'kill',\n",
       "  'year',\n",
       "  'handgun',\n",
       "  'number',\n",
       "  'easili',\n",
       "  'reduc',\n",
       "  'put',\n",
       "  'reason',\n",
       "  'restrict',\n",
       "  'rutledg',\n",
       "  'mean',\n",
       "  'term',\n",
       "  'read',\n",
       "  'articl',\n",
       "  'present',\n",
       "  'argument',\n",
       "  'weapon',\n",
       "  'mass',\n",
       "  'destruct',\n",
       "  'common',\n",
       "  'understand',\n",
       "  'switch',\n",
       "  'topic',\n",
       "  'point',\n",
       "  'evid',\n",
       "  'weapon',\n",
       "  'allow',\n",
       "  'later',\n",
       "  'analysi',\n",
       "  'give',\n",
       "  'understand',\n",
       "  'consid',\n",
       "  'class',\n",
       "  'rocket',\n",
       "  'stratus',\n",
       "  'believ',\n",
       "  'speak',\n",
       "  'compani',\n",
       "  'stratus',\n",
       "  'write',\n",
       "  'today',\n",
       "  'special',\n",
       "  'investor',\n",
       "  'packet',\n",
       "  'doug',\n",
       "  'foxvog',\n",
       "  'dougla',\n",
       "  'foxvog']]"
      ]
     },
     "execution_count": 11,
     "metadata": {},
     "output_type": "execute_result"
    }
   ],
   "source": [
    "new_docs[5:6]"
   ]
  },
  {
   "cell_type": "code",
   "execution_count": 12,
   "metadata": {},
   "outputs": [],
   "source": [
    "dictionary = gensim.corpora.Dictionary(new_docs)"
   ]
  },
  {
   "cell_type": "code",
   "execution_count": 14,
   "metadata": {},
   "outputs": [
    {
     "name": "stdout",
     "output_type": "stream",
     "text": [
      "0 addit\n",
      "1 bodi\n",
      "2 bricklin\n",
      "3 bring\n",
      "4 bumper\n",
      "5 call\n"
     ]
    }
   ],
   "source": [
    "count = 0\n",
    "for k, v in dictionary.iteritems():\n",
    "    print(k, v)\n",
    "    count = count + 1\n",
    "    if count > 5:\n",
    "        break"
   ]
  },
  {
   "cell_type": "code",
   "execution_count": 15,
   "metadata": {},
   "outputs": [],
   "source": [
    "dictionary.filter_extremes(no_below=10, no_above=0.1, keep_n= 100000)"
   ]
  },
  {
   "cell_type": "code",
   "execution_count": 16,
   "metadata": {},
   "outputs": [],
   "source": [
    "bow_corpus = [dictionary.doc2bow(doc) for doc in new_docs]"
   ]
  },
  {
   "cell_type": "code",
   "execution_count": 17,
   "metadata": {},
   "outputs": [],
   "source": [
    "model =  gensim.models.LdaMulticore(bow_corpus, \n",
    "                                   num_topics = 8, \n",
    "                                   id2word = dictionary,                                    \n",
    "                                   passes = 15,\n",
    "                                   workers = 2)"
   ]
  },
  {
   "cell_type": "code",
   "execution_count": 18,
   "metadata": {},
   "outputs": [
    {
     "name": "stdout",
     "output_type": "stream",
     "text": [
      "Topic: 0 \n",
      "Words: 0.012*\"christian\" + 0.008*\"jesus\" + 0.006*\"exist\" + 0.005*\"moral\" + 0.005*\"bibl\" + 0.005*\"word\" + 0.005*\"religion\" + 0.004*\"church\" + 0.004*\"life\" + 0.004*\"claim\"\n",
      "\n",
      "\n",
      "Topic: 1 \n",
      "Words: 0.014*\"window\" + 0.014*\"file\" + 0.009*\"program\" + 0.006*\"chip\" + 0.006*\"encrypt\" + 0.006*\"version\" + 0.005*\"imag\" + 0.005*\"avail\" + 0.005*\"softwar\" + 0.005*\"graphic\"\n",
      "\n",
      "\n",
      "Topic: 2 \n",
      "Words: 0.018*\"game\" + 0.015*\"team\" + 0.011*\"play\" + 0.010*\"player\" + 0.007*\"hockey\" + 0.006*\"season\" + 0.005*\"leagu\" + 0.005*\"score\" + 0.004*\"basebal\" + 0.003*\"divis\"\n",
      "\n",
      "\n",
      "Topic: 3 \n",
      "Words: 0.009*\"sale\" + 0.007*\"presid\" + 0.007*\"price\" + 0.006*\"sell\" + 0.005*\"money\" + 0.004*\"list\" + 0.004*\"offer\" + 0.004*\"bike\" + 0.004*\"program\" + 0.004*\"clinton\"\n",
      "\n",
      "\n",
      "Topic: 4 \n",
      "Words: 0.007*\"ohio\" + 0.006*\"pitt\" + 0.006*\"cleveland\" + 0.006*\"cwru\" + 0.005*\"food\" + 0.005*\"bank\" + 0.005*\"freenet\" + 0.005*\"colorado\" + 0.005*\"gordon\" + 0.005*\"scienc\"\n",
      "\n",
      "\n",
      "Topic: 5 \n",
      "Words: 0.010*\"govern\" + 0.007*\"armenian\" + 0.006*\"israel\" + 0.005*\"kill\" + 0.005*\"isra\" + 0.004*\"turkish\" + 0.004*\"american\" + 0.004*\"jew\" + 0.004*\"weapon\" + 0.003*\"crime\"\n",
      "\n",
      "\n",
      "Topic: 6 \n",
      "Words: 0.017*\"drive\" + 0.007*\"scsi\" + 0.006*\"control\" + 0.006*\"power\" + 0.006*\"speed\" + 0.005*\"card\" + 0.005*\"disk\" + 0.005*\"engin\" + 0.005*\"wire\" + 0.005*\"hard\"\n",
      "\n",
      "\n",
      "Topic: 7 \n",
      "Words: 0.014*\"space\" + 0.008*\"nasa\" + 0.005*\"orbit\" + 0.005*\"research\" + 0.005*\"launch\" + 0.004*\"center\" + 0.004*\"earth\" + 0.003*\"satellit\" + 0.003*\"program\" + 0.003*\"data\"\n",
      "\n",
      "\n"
     ]
    }
   ],
   "source": [
    "for idx, topic in model.print_topics(-1):\n",
    "    print(f\"Topic: {idx} \\nWords: {topic}\")\n",
    "    print(\"\\n\")"
   ]
  },
  {
   "cell_type": "code",
   "execution_count": 19,
   "metadata": {},
   "outputs": [
    {
     "name": "stdout",
     "output_type": "stream",
     "text": [
      "From: carter@ecf.toronto.edu (CARTER EDWARD A)\n",
      "Subject: Re: Good Reasons to Wave at each other\n",
      "Organization: University of Toronto, Engineering Computing Facility\n",
      "Lines: 19\n",
      "\n",
      "jlevine@rd.hydro.on.ca (Jody Levine) writes:\n",
      ">Has anyone, while driving a cage, ever waved at bikers? I get the urge,\n",
      ">but I've never actually done it.\n",
      "\n",
      "Oh yeah, all the time.  On a nice spring/summer day, I roll down the window\n",
      "and drive around looking for bikes.  When a bike motors by in the opposite\n",
      "direction, I stick my arm out and hi5'em.  My arm feels like a million \n",
      "bucks when I'm doing this a 60km/h.  I do the same thing with cyclists.\n",
      "The only problem with hi5ing a cyclist is their always in the right hand lane.\n",
      "I hafta roll down the other window and hi5 them on the back.  Oh well, I \n",
      "think they appreciate the thought. \n",
      "\n",
      "Regards, Ted.\n",
      "\n",
      "---\n",
      "University of Toronto Computer Engineering               \n",
      "PowerUsersGroupChairman\n",
      "'89 FZR600: I'm taking a ride with my best friend.                  DoD#:886699\n",
      "\n",
      "\n"
     ]
    }
   ],
   "source": [
    "num = 50\n",
    "test_document = test.data[num]\n",
    "print(test_document)"
   ]
  },
  {
   "cell_type": "code",
   "execution_count": 26,
   "metadata": {},
   "outputs": [
    {
     "name": "stdout",
     "output_type": "stream",
     "text": [
      "Score: 0.39201977849006653\n",
      " Topic: 0.017*\"drive\" + 0.007*\"scsi\" + 0.006*\"control\" + 0.006*\"power\" + 0.006*\"speed\"\n",
      "\n",
      "Score: 0.3341057002544403\n",
      " Topic: 0.009*\"sale\" + 0.007*\"presid\" + 0.007*\"price\" + 0.006*\"sell\" + 0.005*\"money\"\n",
      "\n",
      "Score: 0.14700612425804138\n",
      " Topic: 0.007*\"ohio\" + 0.006*\"pitt\" + 0.006*\"cleveland\" + 0.006*\"cwru\" + 0.005*\"food\"\n",
      "\n",
      "Score: 0.11621055006980896\n",
      " Topic: 0.014*\"window\" + 0.014*\"file\" + 0.009*\"program\" + 0.006*\"chip\" + 0.006*\"encrypt\"\n",
      "\n"
     ]
    }
   ],
   "source": [
    "bow_vector = dictionary.doc2bow(new_doc_process(test_document))\n",
    "for index, score in sorted(model[bow_vector], key=lambda tup: -1*tup[1]):\n",
    "    print(f\"Score: {score}\\n Topic: {model.print_topic(index, 5)}\\n\")"
   ]
  },
  {
   "cell_type": "code",
   "execution_count": null,
   "metadata": {},
   "outputs": [],
   "source": []
  },
  {
   "cell_type": "code",
   "execution_count": null,
   "metadata": {},
   "outputs": [],
   "source": []
  }
 ],
 "metadata": {
  "kernelspec": {
   "display_name": "Python 3",
   "language": "python",
   "name": "python3"
  },
  "language_info": {
   "codemirror_mode": {
    "name": "ipython",
    "version": 3
   },
   "file_extension": ".py",
   "mimetype": "text/x-python",
   "name": "python",
   "nbconvert_exporter": "python",
   "pygments_lexer": "ipython3",
   "version": "3.7.7"
  }
 },
 "nbformat": 4,
 "nbformat_minor": 1
}
